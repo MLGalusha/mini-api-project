{
 "cells": [
  {
   "cell_type": "code",
   "execution_count": 1,
   "metadata": {},
   "outputs": [],
   "source": [
    "import requests\n",
    "import json\n",
    "import pandas as pd\n",
    "from dotenv import load_dotenv\n",
    "import os\n",
    "import random\n",
    "import datetime\n",
    "pd.set_option('display.max_colwidth', None)"
   ]
  },
  {
   "cell_type": "code",
   "execution_count": 2,
   "id": "ccfffcff",
   "metadata": {},
   "outputs": [],
   "source": [
    "load_dotenv('keys.env')\n",
    "api_key = os.getenv('NYT_API_KEY')\n",
    "\n",
    "url = \"https://api.nytimes.com/svc/search/v2/articlesearch.json?\"\n"
   ]
  },
  {
   "cell_type": "code",
   "execution_count": 3,
   "id": "3bd5366c",
   "metadata": {},
   "outputs": [
    {
     "name": "stdout",
     "output_type": "stream",
     "text": [
      "What type of data would you like to search for? \n",
      "1. Arts\n",
      "2. Dining\n",
      "3. Culture\n",
      "arts\n"
     ]
    }
   ],
   "source": [
    "search_options = [\"Arts\", \"Dining\", \"Culture\"]\n",
    "question = (f\"What type of data would you like to search for? \")\n",
    "while True:\n",
    "    print(question)\n",
    "    x = 1\n",
    "    for item in search_options:\n",
    "        print(f\"{x}. {item}\")\n",
    "        x += 1\n",
    "    number = int(input(\"Pick a number: \"))\n",
    "    if  number >= 1 and number <= len(search_options):\n",
    "        field = (search_options[number-1]).lower()\n",
    "        break\n",
    "    else:\n",
    "        print(f\"Invalid input.\\nPrint a number between 1 and {len(search_options)}.\\n\")\n",
    "        continue\n",
    "\n",
    "print(field)\n",
    "start_date_str = 20200101\n",
    "end_date_str = 20220101"
   ]
  },
  {
   "cell_type": "code",
   "execution_count": 4,
   "id": "012b703b",
   "metadata": {},
   "outputs": [],
   "source": [
    "response = (requests.get(f\"{url}fq=news_desk:({field})&begin_date={start_date_str}&end_date={end_date_str}&api-key={api_key}\")).json()\n",
    "# print(json.dumps(response, indent=4))\n"
   ]
  },
  {
   "cell_type": "markdown",
   "id": "da79a64c",
   "metadata": {},
   "source": []
  },
  {
   "cell_type": "code",
   "execution_count": 5,
   "id": "114f2aa3",
   "metadata": {},
   "outputs": [],
   "source": [
    "name = []\n",
    "art_type = []\n",
    "date = []\n",
    "url = []\n",
    "summary = []\n",
    "\n",
    "\n",
    "for item in response['response']['docs']:\n",
    "    # print(json.dumps(item, indent=4))\n",
    "\n",
    "    name.append(item['headline']['main'])\n",
    "    date.append(item['pub_date'])\n",
    "    url.append(item['web_url'])\n",
    "    summary.append(item['abstract'])\n",
    "\n",
    "df = pd.DataFrame({\n",
    "    \"Name\": name,\n",
    "    \"URL\": url,\n",
    "    \"Summary\": summary,\n",
    "    \"Date\": date,\n",
    "})"
   ]
  },
  {
   "cell_type": "code",
   "execution_count": 6,
   "id": "cf5b072a",
   "metadata": {},
   "outputs": [
    {
     "data": {
      "text/plain": [
       "Name       object\n",
       "URL        object\n",
       "Summary    object\n",
       "Date       object\n",
       "dtype: object"
      ]
     },
     "execution_count": 6,
     "metadata": {},
     "output_type": "execute_result"
    }
   ],
   "source": [
    "df.dtypes"
   ]
  },
  {
   "cell_type": "code",
   "execution_count": 7,
   "id": "162dd340",
   "metadata": {},
   "outputs": [],
   "source": [
    "df['Date'] = pd.to_datetime(df['Date'])\n",
    "df['Date'] = df['Date'].dt.date"
   ]
  },
  {
   "cell_type": "code",
   "execution_count": 8,
   "id": "f08a8a86",
   "metadata": {},
   "outputs": [
    {
     "data": {
      "text/html": [
       "<div>\n",
       "<style scoped>\n",
       "    .dataframe tbody tr th:only-of-type {\n",
       "        vertical-align: middle;\n",
       "    }\n",
       "\n",
       "    .dataframe tbody tr th {\n",
       "        vertical-align: top;\n",
       "    }\n",
       "\n",
       "    .dataframe thead th {\n",
       "        text-align: right;\n",
       "    }\n",
       "</style>\n",
       "<table border=\"1\" class=\"dataframe\">\n",
       "  <thead>\n",
       "    <tr style=\"text-align: right;\">\n",
       "      <th></th>\n",
       "      <th>Name</th>\n",
       "      <th>URL</th>\n",
       "      <th>Summary</th>\n",
       "      <th>Date</th>\n",
       "    </tr>\n",
       "  </thead>\n",
       "  <tbody>\n",
       "    <tr>\n",
       "      <th>5</th>\n",
       "      <td>What’s in Our Queue? Soapy Dogs</td>\n",
       "      <td>https://www.nytimes.com/interactive/2020/11/06/arts/editor-recommendations.html</td>\n",
       "      <td>I’m a visual editor here at The Times. Here are five things I’m watching, reading and listening to.</td>\n",
       "      <td>2020-11-06</td>\n",
       "    </tr>\n",
       "    <tr>\n",
       "      <th>3</th>\n",
       "      <td>Take a Walking Tour of New York</td>\n",
       "      <td>https://www.nytimes.com/interactive/2020/12/21/arts/design/walking-tour-new-york.html</td>\n",
       "      <td>Months ago, our architecture critic invited a few people to suggest modest strolls around places meaningful to them. Here’s where they went.</td>\n",
       "      <td>2020-12-21</td>\n",
       "    </tr>\n",
       "    <tr>\n",
       "      <th>2</th>\n",
       "      <td>What’s in Our Queue? ‘Gore’ and More</td>\n",
       "      <td>https://www.nytimes.com/interactive/2021/04/01/arts/editors-recommendations-lous-and-the-yakuza.html</td>\n",
       "      <td>I'm an editor on the Culture desk. Here are five things I've been watching, reading and listening to lately.</td>\n",
       "      <td>2021-04-01</td>\n",
       "    </tr>\n",
       "    <tr>\n",
       "      <th>4</th>\n",
       "      <td>What to Watch: Kids’ TV Series</td>\n",
       "      <td>https://www.nytimes.com/interactive/2021/04/16/arts/television/what-to-watch-childrens-tv-series.html</td>\n",
       "      <td>If your kids have burned through all their usual favorites, here are six more streaming series to check out.</td>\n",
       "      <td>2021-04-16</td>\n",
       "    </tr>\n",
       "    <tr>\n",
       "      <th>0</th>\n",
       "      <td>What’s in Our Queue? Tony Hawk and More</td>\n",
       "      <td>https://www.nytimes.com/interactive/2021/04/22/arts/editors-recommendations-tony-hawk-pro-skater.html</td>\n",
       "      <td>I’m a senior news assistant on the Culture desk. Here are five things I’ve been watching, playing and listening to lately.</td>\n",
       "      <td>2021-04-22</td>\n",
       "    </tr>\n",
       "    <tr>\n",
       "      <th>1</th>\n",
       "      <td>The 21 Best TV Comedies of the 21st Century (So Far)</td>\n",
       "      <td>https://www.nytimes.com/interactive/2021/arts/television/best-tv-comedies-shows.html</td>\n",
       "      <td>These are the American shows that made us laugh (and cringe and think and feel) the most over the past two-plus decades.</td>\n",
       "      <td>2021-06-16</td>\n",
       "    </tr>\n",
       "    <tr>\n",
       "      <th>7</th>\n",
       "      <td>The Hidden Melodies of Subways Around the World</td>\n",
       "      <td>https://www.nytimes.com/interactive/2021/08/13/arts/subway-train-sounds.html</td>\n",
       "      <td>When train doors close, these jingles warn riders to stand clear.</td>\n",
       "      <td>2021-08-13</td>\n",
       "    </tr>\n",
       "    <tr>\n",
       "      <th>6</th>\n",
       "      <td>5 Songs to Listen to Right Now</td>\n",
       "      <td>https://www.nytimes.com/interactive/2021/11/12/arts/music/pop-recommendations-kylie-minogue.html</td>\n",
       "      <td>I write about pop music for The New York Times. Here are five new and notable songs, including Kylie Minogue and Jessie Ware’s duet and TNGHT’s return.</td>\n",
       "      <td>2021-11-12</td>\n",
       "    </tr>\n",
       "    <tr>\n",
       "      <th>8</th>\n",
       "      <td>The Best of 2021</td>\n",
       "      <td>https://www.nytimes.com/interactive/2021/arts/best-of-2021.html</td>\n",
       "      <td></td>\n",
       "      <td>2021-12-03</td>\n",
       "    </tr>\n",
       "    <tr>\n",
       "      <th>9</th>\n",
       "      <td>5 Things to Do This Weekend</td>\n",
       "      <td>https://www.nytimes.com/interactive/2021/12/31/arts/weekend-editors-picks-disney-met-museum.html</td>\n",
       "      <td>Selections from the current Weekend section, including a review of an exhibition at the Metropolitan Museum of Art about the influence of European art on Walt Disney.</td>\n",
       "      <td>2021-12-31</td>\n",
       "    </tr>\n",
       "  </tbody>\n",
       "</table>\n",
       "</div>"
      ],
      "text/plain": [
       "                                                   Name  \\\n",
       "5                       What’s in Our Queue? Soapy Dogs   \n",
       "3                       Take a Walking Tour of New York   \n",
       "2                  What’s in Our Queue? ‘Gore’ and More   \n",
       "4                        What to Watch: Kids’ TV Series   \n",
       "0               What’s in Our Queue? Tony Hawk and More   \n",
       "1  The 21 Best TV Comedies of the 21st Century (So Far)   \n",
       "7       The Hidden Melodies of Subways Around the World   \n",
       "6                        5 Songs to Listen to Right Now   \n",
       "8                                      The Best of 2021   \n",
       "9                           5 Things to Do This Weekend   \n",
       "\n",
       "                                                                                                     URL  \\\n",
       "5                        https://www.nytimes.com/interactive/2020/11/06/arts/editor-recommendations.html   \n",
       "3                  https://www.nytimes.com/interactive/2020/12/21/arts/design/walking-tour-new-york.html   \n",
       "2   https://www.nytimes.com/interactive/2021/04/01/arts/editors-recommendations-lous-and-the-yakuza.html   \n",
       "4  https://www.nytimes.com/interactive/2021/04/16/arts/television/what-to-watch-childrens-tv-series.html   \n",
       "0  https://www.nytimes.com/interactive/2021/04/22/arts/editors-recommendations-tony-hawk-pro-skater.html   \n",
       "1                   https://www.nytimes.com/interactive/2021/arts/television/best-tv-comedies-shows.html   \n",
       "7                           https://www.nytimes.com/interactive/2021/08/13/arts/subway-train-sounds.html   \n",
       "6       https://www.nytimes.com/interactive/2021/11/12/arts/music/pop-recommendations-kylie-minogue.html   \n",
       "8                                        https://www.nytimes.com/interactive/2021/arts/best-of-2021.html   \n",
       "9       https://www.nytimes.com/interactive/2021/12/31/arts/weekend-editors-picks-disney-met-museum.html   \n",
       "\n",
       "                                                                                                                                                                  Summary  \\\n",
       "5                                                                     I’m a visual editor here at The Times. Here are five things I’m watching, reading and listening to.   \n",
       "3                            Months ago, our architecture critic invited a few people to suggest modest strolls around places meaningful to them. Here’s where they went.   \n",
       "2                                                            I'm an editor on the Culture desk. Here are five things I've been watching, reading and listening to lately.   \n",
       "4                                                            If your kids have burned through all their usual favorites, here are six more streaming series to check out.   \n",
       "0                                              I’m a senior news assistant on the Culture desk. Here are five things I’ve been watching, playing and listening to lately.   \n",
       "1                                                These are the American shows that made us laugh (and cringe and think and feel) the most over the past two-plus decades.   \n",
       "7                                                                                                       When train doors close, these jingles warn riders to stand clear.   \n",
       "6                 I write about pop music for The New York Times. Here are five new and notable songs, including Kylie Minogue and Jessie Ware’s duet and TNGHT’s return.   \n",
       "8                                                                                                                                                                           \n",
       "9  Selections from the current Weekend section, including a review of an exhibition at the Metropolitan Museum of Art about the influence of European art on Walt Disney.   \n",
       "\n",
       "         Date  \n",
       "5  2020-11-06  \n",
       "3  2020-12-21  \n",
       "2  2021-04-01  \n",
       "4  2021-04-16  \n",
       "0  2021-04-22  \n",
       "1  2021-06-16  \n",
       "7  2021-08-13  \n",
       "6  2021-11-12  \n",
       "8  2021-12-03  \n",
       "9  2021-12-31  "
      ]
     },
     "execution_count": 8,
     "metadata": {},
     "output_type": "execute_result"
    }
   ],
   "source": [
    "df = df.sort_values(['Date'], ascending=True)\n",
    "df"
   ]
  },
  {
   "cell_type": "code",
   "execution_count": null,
   "id": "40627fe3",
   "metadata": {},
   "outputs": [],
   "source": []
  }
 ],
 "metadata": {
  "kernelspec": {
   "display_name": "Python 3 (ipykernel)",
   "language": "python",
   "name": "python3"
  },
  "language_info": {
   "codemirror_mode": {
    "name": "ipython",
    "version": 3
   },
   "file_extension": ".py",
   "mimetype": "text/x-python",
   "name": "python",
   "nbconvert_exporter": "python",
   "pygments_lexer": "ipython3",
   "version": "3.11.3"
  }
 },
 "nbformat": 4,
 "nbformat_minor": 5
}
